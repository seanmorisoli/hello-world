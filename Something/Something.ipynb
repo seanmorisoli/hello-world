{
 "cells": [
  {
   "cell_type": "code",
   "execution_count": 1,
   "metadata": {},
   "outputs": [
    {
     "name": "stdin",
     "output_type": "stream",
     "text": [
      "What is your name?  Daniel\n",
      "What is your favorite type of food?  Italian\n"
     ]
    },
    {
     "name": "stdout",
     "output_type": "stream",
     "text": [
      "You're wrong, Daniel. Your favorite food is Chinese Food, not Italian.\n"
     ]
    }
   ],
   "source": [
    "name = input(\"What is your name? \")\n",
    "food = input(\"What is your favorite type of food? \")\n",
    "\n",
    "if food.lower() != \"chinese\":\n",
    "    print(\"You're wrong, \" + name  + \". Your favorite food is Chinese Food, not \" + food + \".\")\n",
    "else:\n",
    "    print(\"You are correct.\")"
   ]
  },
  {
   "cell_type": "code",
   "execution_count": null,
   "metadata": {},
   "outputs": [],
   "source": []
  }
 ],
 "metadata": {
  "kernelspec": {
   "display_name": "Python 3",
   "language": "python",
   "name": "python3"
  },
  "language_info": {
   "codemirror_mode": {
    "name": "ipython",
    "version": 3
   },
   "file_extension": ".py",
   "mimetype": "text/x-python",
   "name": "python",
   "nbconvert_exporter": "python",
   "pygments_lexer": "ipython3",
   "version": "3.8.3"
  }
 },
 "nbformat": 4,
 "nbformat_minor": 4
}
