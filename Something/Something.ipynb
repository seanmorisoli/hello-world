{
 "cells": [
  {
   "cell_type": "code",
   "execution_count": 12,
   "metadata": {},
   "outputs": [
    {
     "name": "stdin",
     "output_type": "stream",
     "text": [
      "What is your name?  Daniekl\n",
      "What is your favorite type of food?  Chinese\n"
     ]
    },
    {
     "name": "stdout",
     "output_type": "stream",
     "text": [
      "You are correct.\n"
     ]
    },
    {
     "name": "stdin",
     "output_type": "stream",
     "text": [
      "What are your favorite Chinese dishes? (Separate by commas ', ') iajwdoa, aowidj awdoi, jawdok\n"
     ]
    },
    {
     "name": "stdout",
     "output_type": "stream",
     "text": [
      "\n",
      "Daniekl's favorite foods are: \n",
      "\n",
      "iajwdoa\n",
      "aowidj awdoi\n",
      "jawdok\n"
     ]
    }
   ],
   "source": [
    "name = input(\"What is your name? \")\n",
    "food = input(\"What is your favorite type of food? \")\n",
    "\n",
    "if food.lower() != \"chinese\":\n",
    "    print(\"You're wrong, \" + name  + \". Your favorite food is Chinese Food, not \" + food + \".\")\n",
    "else:\n",
    "    print(\"You are correct.\")\n",
    "    dish = input(\"What are your favorite Chinese dishes? (Separate by commas ', ')\")\n",
    "    dishList = dish.split(\", \")\n",
    "    print(\"\\n\" + name + \"'s favorite foods are: \\n\")\n",
    "    for i in dishList: print(i)"
   ]
  },
  {
   "cell_type": "code",
   "execution_count": null,
   "metadata": {},
   "outputs": [],
   "source": []
  }
 ],
 "metadata": {
  "kernelspec": {
   "display_name": "Python 3",
   "language": "python",
   "name": "python3"
  },
  "language_info": {
   "codemirror_mode": {
    "name": "ipython",
    "version": 3
   },
   "file_extension": ".py",
   "mimetype": "text/x-python",
   "name": "python",
   "nbconvert_exporter": "python",
   "pygments_lexer": "ipython3",
   "version": "3.8.3"
  }
 },
 "nbformat": 4,
 "nbformat_minor": 4
}
